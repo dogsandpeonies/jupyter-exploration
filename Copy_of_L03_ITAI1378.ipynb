{
  "nbformat": 4,
  "nbformat_minor": 0,
  "metadata": {
    "colab": {
      "provenance": []
    },
    "kernelspec": {
      "name": "python3",
      "display_name": "Python 3"
    },
    "language_info": {
      "name": "python"
    }
  },
  "cells": [
    {
      "cell_type": "markdown",
      "source": [
        "My first markdown cell\n"
      ],
      "metadata": {
        "id": "qBbB1W52MlgU"
      }
    },
    {
      "cell_type": "code",
      "source": [
        "print(\"I love working on my L03 assignment\")"
      ],
      "metadata": {
        "id": "czmMFhYqHR9B",
        "colab": {
          "base_uri": "https://localhost:8080/"
        },
        "outputId": "c5c38a6c-68de-4795-c85d-9edb10ef22a6"
      },
      "execution_count": null,
      "outputs": [
        {
          "output_type": "stream",
          "name": "stdout",
          "text": [
            "I love working on my L03 assignment\n"
          ]
        }
      ]
    }
  ]
}